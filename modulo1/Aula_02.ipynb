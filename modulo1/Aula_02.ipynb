{
  "nbformat": 4,
  "nbformat_minor": 0,
  "metadata": {
    "colab": {
      "name": "Aula_02.ipynb",
      "provenance": [],
      "collapsed_sections": [],
      "toc_visible": true,
      "include_colab_link": true
    },
    "kernelspec": {
      "name": "python3",
      "display_name": "Python 3.9.5 64-bit"
    },
    "language_info": {
      "name": "python",
      "version": "3.9.5"
    },
    "interpreter": {
      "hash": "63fd5069d213b44bf678585dea6b12cceca9941eaf7f819626cde1f2670de90d"
    }
  },
  "cells": [
    {
      "cell_type": "markdown",
      "metadata": {
        "id": "view-in-github",
        "colab_type": "text"
      },
      "source": [
        "<a href=\"https://colab.research.google.com/github/luis-botelho/blueMod1/blob/main/Aula_02.ipynb\" target=\"_parent\"><img src=\"https://colab.research.google.com/assets/colab-badge.svg\" alt=\"Open In Colab\"/></a>"
      ]
    },
    {
      "cell_type": "markdown",
      "metadata": {
        "id": "w1T7s2q0p-pt"
      },
      "source": [
        "# Mini projetos"
      ]
    },
    {
      "cell_type": "markdown",
      "metadata": {
        "id": "meUw7PTwqC-Y"
      },
      "source": [
        "## #01 - Conversor de moedas\n",
        "\n",
        "Crie um programa que solicite um um valor em real ao usuário e converta esse valor, para:\n",
        "\n",
        "- DOLAR,\n",
        "- EURO,\n",
        "- LIBRA ESTERLINA,\n",
        "- DÓLAR CANADENSE,\n",
        "- PESO ARGENTINO,\n",
        "- PESO CHILENO.\n",
        "\n",
        "Para esse exercício você precisará realizar uma pesquisa para saber a cotação de cada moeda em real. Mostrar o resultado no formato $ XXXX.XX"
      ]
    },
    {
      "cell_type": "code",
      "metadata": {
        "colab": {
          "base_uri": "https://localhost:8080/"
        },
        "id": "zs6NaMdQP7vV",
        "outputId": "2a4e2805-9a5b-4706-fb3c-bc5dccb1b466"
      },
      "source": [
        "print('Olá Bluemer, imagine que você precisa viajar para outra nação mas não tem ideia de quanto vai ter na moeda local deste pais.')\n",
        "print('vamos lá!')\n",
        "print('primeiro diga-me quanto tem em R$(reais), lembre-se de usar ponto invês de virgula')\n",
        "real = float(input('R$:').replace(',' , '.'))\n",
        "#variáveis que guardam o valor das moedas \n",
        "dolar = real / 5.04\n",
        "euro = real / 6.13\n",
        "libra = real / 7.13\n",
        "cad = real / 4.16\n",
        "peso = real / 0.053\n",
        "peso2 = real / 0.0070\n",
        "\n",
        "print(f'Em dolares você teria: $ {dolar:.2f}' )\n",
        "print(f'Em euros você teria: € {euro:.2f}' )\n",
        "print(f'Em Libras esterlina você teria: GBP {libra:.2f}' )\n",
        "print(f'Em dolares canadenses você teria: CAD {cad:.2f}')\n",
        "print(f'Em peso argentinos você teria: ARS {peso:.2f}')\n",
        "print(f'E em pesos chilenos você teria: CLP {peso2:.2f}')\n",
        "\n",
        "\n"
      ],
      "execution_count": 6,
      "outputs": [
        {
          "output_type": "stream",
          "text": [
            "Olá Bluemer, imagine que você precisa viajar para outra nação mas não tem ideia de quanto vai ter na moeda local deste pais.\n",
            "vamos lá!\n",
            "primeiro diga-me quanto tem em R$(reais), lembre-se de usar ponto invês de virgula\n",
            "R$:30\n",
            "Em dolares você teria: $ 5.95\n",
            "Em euros você teria: € 4.89\n",
            "Em Libras esterlina você teria: GBP 4.21\n",
            "Em dolares canadenses você teria: CAD 7.21\n",
            "Em peso argentinos você teria: ARS 566.04\n",
            "E em pesos chilenos você teria: CLP 4285.71\n"
          ],
          "name": "stdout"
        }
      ]
    },
    {
      "cell_type": "markdown",
      "metadata": {
        "id": "KK9PIcJ4qIF9"
      },
      "source": [
        "## #02 - Calculadora de aumento de aluguel\n",
        "\n",
        "Vamos construir um programa que irá calcular o aumento anual do seu aluguel.\n",
        "\n",
        "A sua calculadora vai receber o `valor do aluguel` e calcular o aumento baseado no `IGPM de 31%`. A calculadora deve apresentar o aluguel reajustado no formato `R$ XXXX.XX`."
      ]
    },
    {
      "cell_type": "code",
      "metadata": {
        "colab": {
          "base_uri": "https://localhost:8080/"
        },
        "id": "CqjWwcBAS2aT",
        "outputId": "2ec8b97b-ee65-42a1-978a-90dfeff3b1f3"
      },
      "source": [
        "print('Olá Bluemer, Gostaria de saber quanto será o aumento anual do seu alguel?')\n",
        "rent = int(input('Quanto você paga de aluguel? :'))\n",
        "IGPM = 31\n",
        "adjusted = rent + rent * IGPM/100\n",
        "\n",
        "print(f'você pagaria R$ {adjusted:.2f} de alguel')"
      ],
      "execution_count": null,
      "outputs": []
    },
    {
      "cell_type": "code",
      "execution_count": null,
      "metadata": {},
      "outputs": [],
      "source": []
    }
  ]
}