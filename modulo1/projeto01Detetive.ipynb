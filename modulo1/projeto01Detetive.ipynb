{
  "nbformat": 4,
  "nbformat_minor": 0,
  "metadata": {
    "colab": {
      "name": "projeto01Detetive.ipynb",
      "provenance": [],
      "authorship_tag": "ABX9TyMEJhjM0E6G56jXtGhy0SFr",
      "include_colab_link": true
    },
    "kernelspec": {
      "name": "python3",
      "display_name": "Python 3"
    },
    "language_info": {
      "name": "python"
    }
  },
  "cells": [
    {
      "cell_type": "markdown",
      "metadata": {
        "id": "view-in-github",
        "colab_type": "text"
      },
      "source": [
        "<a href=\"https://colab.research.google.com/github/luis-botelho/blueMod1/blob/main/projeto01Detetive.ipynb\" target=\"_parent\"><img src=\"https://colab.research.google.com/assets/colab-badge.svg\" alt=\"Open In Colab\"/></a>"
      ]
    },
    {
      "cell_type": "code",
      "metadata": {
        "colab": {
          "base_uri": "https://localhost:8080/"
        },
        "id": "aaOhtoLlSs_j",
        "outputId": "52a48f1f-dc4b-4034-eb49-86b0c776f843"
      },
      "source": [
        "# Projeto Nº1\n",
        "# Detetive\n",
        "# a ideia é classificar a participação do úsuário no crime com um questionário de 5 perguntas.\n",
        "## Não repare na gambiarra que fiz caso a resposta fosse diferente de sim ou não, ainda não sei parar o programa e reiniciar caso tenha uma resposta errada.\n",
        "print('Este é um questinário sobre o assassinato de Joana.\\nVocê deve responder apenas com sim ou não.')\n",
        "##variáveis para a sentença\n",
        "answer1 = 0\n",
        "answer2 = 0\n",
        "answer3 = 0\n",
        "answer4 = 0\n",
        "answer5 = 0\n",
        "##inputs, faz as perguntas ao usuário, adicionando ou não valor as variáveis para sentença.\n",
        "#Frist question \n",
        "fristQuestion = str(input('Você telefonou para vítima?\\n').upper().replace(\"Ã\",\"A\"))\n",
        "if fristQuestion == \"SIM\":\n",
        "  answer1 = 1\n",
        "elif fristQuestion == \"NAO\":\n",
        "  answer1 = 0\n",
        "else:\n",
        "  answer1 = 6\n",
        "  print('Reposta invalida')\n",
        "#Second question \n",
        "secondQuestion = str(input('Você esteve no local do crime?\\n').upper().replace(\"Ã\",\"A\"))\n",
        "if secondQuestion == \"SIM\":\n",
        "  answer2 = 1\n",
        "elif secondQuestion == \"NAO\":\n",
        "  answer2 = 0\n",
        "else:\n",
        "  answer2 = 6\n",
        "  print('Reposta invalida')\n",
        "#Third question \n",
        "thirdQuestion = str(input('Você mora perto da vitima?\\n').upper().replace(\"Ã\",\"A\"))\n",
        "if thirdQuestion == \"SIM\":\n",
        "  answer3 = 1\n",
        "elif thirdQuestion == \"NAO\": \n",
        "  answer3 = 0\n",
        "else:\n",
        "  answer3 = 6\n",
        "  print('Reposta invalida')\n",
        "#Fourth Question\n",
        "fourthQuestion = str(input('Você devia a vítima?\\n').upper().replace(\"Ã\",\"A\"))\n",
        "if fourthQuestion == \"SIM\":\n",
        "  answer4 = 1\n",
        "elif fourthQuestion == \"NAO\":\n",
        "  answer4 = 0\n",
        "else:\n",
        "  answer4 = 6\n",
        "  print('Reposta invalida')\n",
        "#Fifth question \n",
        "fifthQuestion = str(input('Você já trabalhou com a vítima?\\n').upper().replace(\"Ã\",\"A\"))\n",
        "if fifthQuestion == \"SIM\":\n",
        "  answer5 = 1\n",
        "elif fifthQuestion == \"NAO\":\n",
        "  answer5 = 0\n",
        "else:\n",
        "  answer5 = 6\n",
        "  print('Reposta invalida')\n",
        "##Sentença, somas as variaveis e atribui a cassificação como reposta\n",
        "reply = answer1 + answer2 + answer3 + answer4 + answer5 \n",
        "\n",
        "if reply <= 1:\n",
        "  print('Você é inocente!')\n",
        "elif reply == 2:\n",
        "  print('Você é suspeito!')\n",
        "elif reply == 3 or reply == 4:\n",
        "  print('Você é Cúmplice')\n",
        "elif reply == 5:\n",
        "  print('você é o assassino!')\n",
        "else:\n",
        "  print('Você respondeu alguma pergunta errado')\n"
      ],
      "execution_count": null,
      "outputs": [
        {
          "output_type": "stream",
          "text": [
            "Este é um questinário sobre o assassinato de Joana.\n",
            "Você deve responder apenas com sim ou não.\n",
            "Você telefonou para vítima?\n",
            "não\n",
            "Você esteve no local do crime?\n",
            "NAo\n",
            "Você mora perto da vitima?\n",
            "não\n",
            "Você devia a vítima?\n",
            "nao\n",
            "Você já trabalhou com a vítima?\n",
            "nao\n",
            "Você é inocente!\n"
          ],
          "name": "stdout"
        }
      ]
    }
  ]
}