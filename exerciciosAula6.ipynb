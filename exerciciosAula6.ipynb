{
  "nbformat": 4,
  "nbformat_minor": 0,
  "metadata": {
    "colab": {
      "name": "exerciciosAula6.ipynb",
      "provenance": [],
      "collapsed_sections": [],
      "authorship_tag": "ABX9TyO78DmdWP29gvnDSxCc7iRn",
      "include_colab_link": true
    },
    "kernelspec": {
      "name": "python3",
      "display_name": "Python 3"
    },
    "language_info": {
      "name": "python"
    }
  },
  "cells": [
    {
      "cell_type": "markdown",
      "metadata": {
        "id": "view-in-github",
        "colab_type": "text"
      },
      "source": [
        "<a href=\"https://colab.research.google.com/github/luis-botelho/blueMod1/blob/main/exerciciosAula6.ipynb\" target=\"_parent\"><img src=\"https://colab.research.google.com/assets/colab-badge.svg\" alt=\"Open In Colab\"/></a>"
      ]
    },
    {
      "cell_type": "code",
      "metadata": {
        "colab": {
          "base_uri": "https://localhost:8080/"
        },
        "id": "ozrPNhkHPe2T",
        "outputId": "6d54ba5b-a1dc-4b17-befb-b9ac04eb944d"
      },
      "source": [
        "#01 - Dado uma string com uma frase informada pelo usuário (incluindo espaços em branco), conte quantas vezes aparece as vogais a,e,i,o,u\n",
        "frase = str(input('Digite uma frase:\\n').upper().strip())\n",
        "a = 0\n",
        "e = 0\n",
        "i = 0\n",
        "o = 0\n",
        "u = 0\n",
        "for vogal in frase:\n",
        "  if vogal == \"A\" or vogal == \"Á\" or vogal == 'Ã':\n",
        "    a += 1\n",
        "  if vogal == \"E\" or vogal == 'É' or vogal == 'Ê':\n",
        "    e += 1\n",
        "  if vogal == \"I\" or vogal == 'Í':\n",
        "    i += 1\n",
        "  if vogal == \"O\" or vogal == 'Ô' or vogal == 'Ó':\n",
        "    o += 1\n",
        "  if vogal == \"U\":\n",
        "    u += 1\n",
        "print('Sua frase tem:')\n",
        "print(f'{a} letras A')\n",
        "print(f'{e} letras E')\n",
        "print(f'{i} letras I')\n",
        "print(f'{o} letras O')\n",
        "print(f'{u} letras U')\n"
      ],
      "execution_count": 53,
      "outputs": [
        {
          "output_type": "stream",
          "text": [
            "Digite uma frase:\n",
            "JIOJHOUIGÚ\n",
            "Sua frase tem:\n",
            "0 letras A\n",
            "0 letras E\n",
            "2 letras I\n",
            "2 letras O\n",
            "1 letras U\n"
          ],
          "name": "stdout"
        }
      ]
    },
    {
      "cell_type": "code",
      "metadata": {
        "colab": {
          "base_uri": "https://localhost:8080/"
        },
        "id": "HwHWCvdsT1AI",
        "outputId": "92f9a3ff-fddf-4baa-bd41-afa053b5474c"
      },
      "source": [
        "#02 - Desenvolva um código que pergunte um número n para o usuário e exiba todos seus divisores\n",
        "num = int(input(\"Digite um número para saber seus divisores:\\n\"))\n",
        "for i in range(1, num+1):\n",
        "   if num % i == 0: \n",
        "     print(i)\n",
        "\n",
        "\n"
      ],
      "execution_count": 52,
      "outputs": [
        {
          "output_type": "stream",
          "text": [
            "Digite um número para saber seus divisores:\n",
            "200\n",
            "1\n",
            "2\n",
            "4\n",
            "5\n",
            "8\n",
            "10\n",
            "20\n",
            "25\n",
            "40\n",
            "50\n",
            "100\n",
            "200\n"
          ],
          "name": "stdout"
        }
      ]
    },
    {
      "cell_type": "code",
      "metadata": {
        "colab": {
          "base_uri": "https://localhost:8080/"
        },
        "id": "BVRMM0q8KwDg",
        "outputId": "cb01445a-4385-4f97-d8a9-25539606c862"
      },
      "source": [
        "###03 - Faça um script que o usuário escolha um número de início, um número de fim, e um número de\n",
        "#passo. O programa deve printar todos os números do intervalo entre início e fim, \"pulando\" de\n",
        "#acordo com o intervalo passado\n",
        "begin = int(input('Digite um número para começar:\\n'))\n",
        "jump = int(input('Digite de quantos em quantos números\\n'))\n",
        "end = int(input(\"Digite o número que vai terminar:\\n\"))\n",
        "\n",
        "for i in range(begin,end,jump):\n",
        "  print(i)"
      ],
      "execution_count": 61,
      "outputs": [
        {
          "output_type": "stream",
          "text": [
            "Digite um número para começar:\n",
            "1\n",
            "Digite de quantos em quantos números\n",
            "9\n",
            "Digite o número que vai terminar:\n",
            "200\n",
            "1\n",
            "10\n",
            "19\n",
            "28\n",
            "37\n",
            "46\n",
            "55\n",
            "64\n",
            "73\n",
            "82\n",
            "91\n",
            "100\n",
            "109\n",
            "118\n",
            "127\n",
            "136\n",
            "145\n",
            "154\n",
            "163\n",
            "172\n",
            "181\n",
            "190\n",
            "199\n"
          ],
          "name": "stdout"
        }
      ]
    },
    {
      "cell_type": "code",
      "metadata": {
        "colab": {
          "base_uri": "https://localhost:8080/"
        },
        "id": "5GF0E6tB0poS",
        "outputId": "36cdba4d-1f9b-48b8-eaac-6df5a378d8d8"
      },
      "source": [
        "#04 - Desenvolva um código em que o usuário vai entrar vários números e no final vai apresentar a soma deles (o usuário vai dizer quantos números serão informados antes de começar)\n",
        "cont = 0\n",
        "\n",
        "init = int(input('Digite a quantidade de números que deseja somar:\\n'))\n",
        "for i in range(0,init):\n",
        "  num = int(input('Digite o primeiro número:\\n')) \n",
        "  cont += num\n",
        "print(f'A soma entre esses números é :\\n{cont}')\n"
      ],
      "execution_count": 99,
      "outputs": [
        {
          "output_type": "stream",
          "text": [
            "Digite a quantidade de números que deseja somar:\n",
            "5\n",
            "Digite o primeiro número:\n",
            "5\n",
            "Digite o primeiro número:\n",
            "5\n",
            "Digite o primeiro número:\n",
            "5\n",
            "Digite o primeiro número:\n",
            "5\n",
            "Digite o primeiro número:\n",
            "5\n",
            "A soma entre esses números é :\n",
            "25\n"
          ],
          "name": "stdout"
        }
      ]
    },
    {
      "cell_type": "code",
      "metadata": {
        "id": "fx6gKQsYLhw3"
      },
      "source": [
        "#05 - Faça um programa que mostre na tela uma contagem regressiva para o estouro de fogos de artifício, indo de 10 até 0, com uma pausa de 1 segundo entre eles.\n"
      ],
      "execution_count": null,
      "outputs": []
    },
    {
      "cell_type": "code",
      "metadata": {
        "id": "_qzNx38uLkIF"
      },
      "source": [
        "#06 - Escreva um programa onde o usuário digita uma frase e essa frase retorna sem nenhuma vogal"
      ],
      "execution_count": null,
      "outputs": []
    }
  ]
}