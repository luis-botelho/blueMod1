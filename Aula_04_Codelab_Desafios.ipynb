{
  "nbformat": 4,
  "nbformat_minor": 0,
  "metadata": {
    "colab": {
      "name": "Aula_04_Codelab - Desafios.ipynb",
      "provenance": [],
      "collapsed_sections": [],
      "include_colab_link": true
    },
    "kernelspec": {
      "name": "python3",
      "display_name": "Python 3"
    },
    "language_info": {
      "name": "python"
    }
  },
  "cells": [
    {
      "cell_type": "markdown",
      "metadata": {
        "id": "view-in-github",
        "colab_type": "text"
      },
      "source": [
        "<a href=\"https://colab.research.google.com/github/luis-botelho/blueMod1/blob/main/Aula_04_Codelab_Desafios.ipynb\" target=\"_parent\"><img src=\"https://colab.research.google.com/assets/colab-badge.svg\" alt=\"Open In Colab\"/></a>"
      ]
    },
    {
      "cell_type": "markdown",
      "metadata": {
        "id": "NRhLAMa6ZfqU"
      },
      "source": [
        "## **DESAFIO 01**\n",
        "\n",
        "**Reajuste salarial**\n",
        "\n",
        "As empresas @.com resolveram dar um aumento de salário aos seus colaboradores e lhe contrataram para desenvolver o programa que calculará os reajustes.\n",
        "\n",
        "Faça um programa que recebe o salário de um colaborador e o reajuste segundo o seguinte critério, baseado no salário atual:\n",
        "* salários até R$ 280,00 (incluindo) : aumento de 20%\n",
        "\n",
        "* salários entre R\\$ 280,00 e R$ 700,00 : aumento de 15%\n",
        "\n",
        "* salários entre R\\$ 700,00 e R$ 1500,00 : aumento de 10%\n",
        "\n",
        "* salários de R$ 1500,00 em diante : aumento de 5% \n",
        "\n",
        "Após o aumento ser realizado, informe na tela:\n",
        "* o salário antes do reajuste;\n",
        "\n",
        "* o percentual de aumento aplicado;\n",
        "\n",
        "* o valor do aumento;\n",
        "\n",
        "* o novo salário, após o aumento.\""
      ]
    },
    {
      "cell_type": "code",
      "metadata": {
        "id": "vrEhO_E7uONI",
        "colab": {
          "base_uri": "https://localhost:8080/"
        },
        "outputId": "19e8839a-cc6c-423f-adde-a433eec5edbb"
      },
      "source": [
        "#Váriaveis de aumento e porcentagem.\n",
        "increase = 0\n",
        "range = 0 \n",
        "#variáveis que guardam as porcentagem para cada faixa salárial.\n",
        "range1 = 20\n",
        "range2 = 15\n",
        "range3 = 10\n",
        "range4 = 5\n",
        "\n",
        "salary = float(input('Qual salário atual ?\\nR$').replace(\",\", \".\"))\n",
        "\n",
        "if salary <= 280:\n",
        "  range = range1 \n",
        "  increase = (salary / 100)*range\n",
        "elif salary > 280 or salary < 700:\n",
        "  range = range2 \n",
        "  increase = (salary / 100)*range\n",
        "elif salary > 700 or salary < 1500:\n",
        "  range = range3 \n",
        "  increase = (salary / 100)*range\n",
        "elif salary > 1500:\n",
        "  range = range3 \n",
        "  increase = (salary / 100)*range\n",
        "\n",
        "print(f'Seu Salário antes do reajuste é: R${salary:.2f}')\n",
        "print(f'Receberá um aumento de: {range}%')\n",
        "print(f'R$:{increase:.2f} de aumento')\n",
        "print(f'Você recebera R$:{increase+salary:.2f} de salário')\n",
        "\n"
      ],
      "execution_count": null,
      "outputs": [
        {
          "output_type": "stream",
          "text": [
            "Qual salário atual ?\n",
            "R$25\n",
            "Seu Salário antes do reajuste é: R$25.00\n",
            "Receberá um aumento de: 20%\n",
            "R$:5.00 de aumento\n",
            "Você recebera R$:30.00 de salário\n"
          ],
          "name": "stdout"
        }
      ]
    },
    {
      "cell_type": "markdown",
      "metadata": {
        "id": "HvThpbU4aBGy"
      },
      "source": [
        "## **DESAFIO 02**\n",
        "\n",
        "**Jogo da adivinhação**\n",
        "\n",
        "Escreva um programa que faça o computador “pensar” em um número inteiro entre 0 e 10 e peça para o usuário tentar descobrir qual foi o número escolhido pelo computador. O programa deverá escrever na tela se o usuário venceu ou perdeu."
      ]
    },
    {
      "cell_type": "code",
      "metadata": {
        "id": "ufD4OzxkaN1X",
        "colab": {
          "base_uri": "https://localhost:8080/"
        },
        "outputId": "65660c63-80de-494f-f68b-43460c6ef56b"
      },
      "source": [
        "import random \n",
        "\n",
        "result = random.randint(0,10)\n",
        "user = int(input('O programa vai pensar em um número de 0 a 10\\nTente adivinhar este número\\nResposta: '))\n",
        "\n",
        "\n",
        "while not result == user:\n",
        "  print('Infelizmente você errou')\n",
        "  user = int(input('Tente novamente\\nResposta: '))\n",
        "if result == user:\n",
        "  print('Parabéns! Você acertou!')"
      ],
      "execution_count": null,
      "outputs": [
        {
          "output_type": "stream",
          "text": [
            "O programa vai pensar em um número de 0 a 10\n",
            "Tente adivinhar este número\n",
            "Resposta: 1\n",
            "Infelizmente você errou\n",
            "Tente novamente\n",
            "Resposta: 2\n",
            "Infelizmente você errou\n",
            "Tente novamente\n",
            "Resposta: 3\n",
            "Infelizmente você errou\n",
            "Tente novamente\n",
            "Resposta: 4\n",
            "Infelizmente você errou\n",
            "Tente novamente\n",
            "Resposta: 5\n",
            "Infelizmente você errou\n",
            "Tente novamente\n",
            "Resposta: 6\n",
            "Infelizmente você errou\n",
            "Tente novamente\n",
            "Resposta: 7\n",
            "Infelizmente você errou\n",
            "Tente novamente\n",
            "Resposta: 8\n",
            "Infelizmente você errou\n",
            "Tente novamente\n",
            "Resposta: 9\n",
            "Infelizmente você errou\n",
            "Tente novamente\n",
            "Resposta: 10\n",
            "Parabéns! Você acertou!\n"
          ],
          "name": "stdout"
        }
      ]
    },
    {
      "cell_type": "markdown",
      "metadata": {
        "id": "mjLFAUooaOH1"
      },
      "source": [
        "## **Projeto da semana**\n",
        "\n",
        "**Caixa eletrônico**\n",
        "\n",
        "Faça um Programa para um caixa eletrônico. O programa deverá perguntar ao usuário a valor do saque e depois informar quantas notas de cada valor serão fornecidas. As notas disponíveis serão as de 1, 5, 10, 50 e 100 reais. O valor mínimo é de 10 reais e o máximo de 600 reais. O programa não deve se preocupar com a quantidade de notas existentes na máquina.\n",
        "\n",
        "* Exemplo 1: Para sacar a quantia de 256 reais, o programa fornece duas notas de 100, uma nota de 50, uma nota de 5 e uma nota de 1;\n",
        "\n",
        "* Exemplo 2: Para sacar a quantia de 399 reais, o programa fornece três notas de 100, uma nota de 50, quatro notas de 10, uma nota de 5 e quatro notas de 1.\n",
        "\n"
      ]
    },
    {
      "cell_type": "code",
      "metadata": {
        "id": "S7gbFodVawK1",
        "colab": {
          "base_uri": "https://localhost:8080/"
        },
        "outputId": "840abb76-4c74-42cc-b77f-b4d7277dd8f4"
      },
      "source": [
        "\n",
        "valor = int(input('Qual valor você deseja sacar? R$ '))\n",
        "\n",
        "lobo = valor // 200\n",
        "peixe = (valor % 200)//100\n",
        "onca = ((valor%200)%100)//50\n",
        "mico = (((valor%200)%100)%50)//20\n",
        "arara = ((((valor%200)%100)%50)%20)//10\n",
        "garça = (((((valor%200)%100)%50)%20)%10)//5\n",
        "tartaruga = ((((((valor%200)%100)%50)%20)%10)%5)//2\n",
        "beija_flor = (((((((valor%200)%100)%50)%20)%10)%5)%2)//1\n",
        "\n",
        "if lobo != 0:\n",
        "    print(f'Total de {lobo} cedulas de R$ 200,00')\n",
        "if peixe != 0:\n",
        "    print(f'Total de {peixe} cedulas de R$ 100,00')\n",
        "if onca != 0:\n",
        "    print(f'Total de {onca} cedulas de R$ 50,00')\n",
        "if mico != 0:\n",
        "    print(f'Total de {mico} cedulas de R$ 20,00')\n",
        "if arara != 0:\n",
        "    print(f'Total de {arara} cedulas de R$ 10,00')\n",
        "if garça != 0:\n",
        "    print(f'Total de {garça} cedulas de R$ 5,00')\n",
        "if tartaruga != 0:\n",
        "    print(f'Total de {tartaruga} cedulas de R$ 2,00')\n",
        "if beija_flor != 0:\n",
        "    print(f'Total de {beija_flor} cedulas de R$ 1,00')"
      ],
      "execution_count": null,
      "outputs": [
        {
          "output_type": "stream",
          "text": [
            "Qual valor você deseja sacar? R$ 300\n",
            "Total de 1 cedulas de R$ 200,00\n",
            "Total de 1 cedulas de R$ 100,00\n"
          ],
          "name": "stdout"
        }
      ]
    }
  ]
}